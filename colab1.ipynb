{
  "nbformat": 4,
  "nbformat_minor": 0,
  "metadata": {
    "colab": {
      "name": "colab1.ipynb",
      "provenance": [],
      "authorship_tag": "ABX9TyML2VXykKYeLL5gJN0ZahOq",
      "include_colab_link": true
    },
    "kernelspec": {
      "name": "python3",
      "display_name": "Python 3"
    },
    "language_info": {
      "name": "python"
    }
  },
  "cells": [
    {
      "cell_type": "markdown",
      "metadata": {
        "id": "view-in-github",
        "colab_type": "text"
      },
      "source": [
        "<a href=\"https://colab.research.google.com/github/suriya4code/python-google-collab/blob/master/colab1.ipynb\" target=\"_parent\"><img src=\"https://colab.research.google.com/assets/colab-badge.svg\" alt=\"Open In Colab\"/></a>"
      ]
    },
    {
      "cell_type": "code",
      "execution_count": 4,
      "metadata": {
        "colab": {
          "base_uri": "https://localhost:8080/"
        },
        "id": "ArqK1kHAtHMr",
        "outputId": "c17e2c98-f0ad-4cab-b6e9-1a3f882cd357"
      },
      "outputs": [
        {
          "output_type": "stream",
          "name": "stdout",
          "text": [
            "Enter the Range Number: 5\n",
            "0\n",
            "1\n",
            "1\n",
            "2\n",
            "3\n"
          ]
        }
      ],
      "source": [
        "def Fibonacci(number):\n",
        "           if(number == 0):\n",
        "                      return 0\n",
        "           elif(number == 1):\n",
        "                      return 1\n",
        "           else:\n",
        "                      return (Fibonacci(number - 2)+ Fibonacci(number - 1))\n",
        "number = int(input(\"Enter the Range Number: \"))\n",
        "for n in range(0, number):\n",
        "           print(Fibonacci(n))"
      ]
    }
  ]
}